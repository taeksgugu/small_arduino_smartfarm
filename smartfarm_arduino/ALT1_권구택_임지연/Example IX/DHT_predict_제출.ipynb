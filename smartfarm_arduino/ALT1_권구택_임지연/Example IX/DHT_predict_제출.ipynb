{
  "cells": [
    {
      "cell_type": "markdown",
      "metadata": {
        "id": "YvwieRHGxMy0"
      },
      "source": [
        "# DHT22 Prediction Model\n",
        "\n",
        "아래 중간 중간 `#빈칸`을 채우며 적절히 설계해보세요. 끝까지 실행하면 `temp_predict.onnx` 및 `humi_predict.onnx` 파일이 생성됩니다."
      ],
      "id": "YvwieRHGxMy0"
    },
    {
      "cell_type": "code",
      "execution_count": 19,
      "metadata": {
        "id": "-4cN92z2xMy3"
      },
      "outputs": [],
      "source": [
        "import json\n",
        "import torch\n",
        "import torch.nn as nn\n",
        "import torch.onnx\n",
        "import numpy as np\n",
        "from torch.utils.data import DataLoader, Dataset"
      ],
      "id": "-4cN92z2xMy3"
    },
    {
      "cell_type": "markdown",
      "metadata": {
        "id": "B8WR9wfBxMy5"
      },
      "source": [
        "### Class Definitions"
      ],
      "id": "B8WR9wfBxMy5"
    },
    {
      "cell_type": "code",
      "execution_count": 20,
      "metadata": {
        "id": "Mc9xWSFLxMy5"
      },
      "outputs": [],
      "source": [
        "class DHTDataset(Dataset):\n",
        "    def __init__(self, key):\n",
        "        self.data = []\n",
        "        self.target = []\n",
        "        self.key = key\n",
        "\n",
        "        db = open(\"db.json\", \"r\")\n",
        "        humi_temp = json.load(db)\n",
        "\n",
        "        for i in range(len(humi_temp.get(self.key))-62):\n",
        "            tmp_data = []\n",
        "            tmp_data.append([float(humi_temp.get(self.key)[i][1])])\n",
        "            tmp_data.append([float(humi_temp.get(self.key)[i+1][1])])\n",
        "            tmp_data.append([float(humi_temp.get(self.key)[i+2][1])])\n",
        "            self.data.append(torch.as_tensor(tmp_data))\n",
        "\n",
        "            self.target.append(\n",
        "                torch.as_tensor([float(humi_temp.get(self.key)[i+62][1])]))\n",
        "\n",
        "    def __len__(self):\n",
        "        return len(self.data)\n",
        "\n",
        "    def __getitem__(self, index):\n",
        "        data, target = self.data[index], self.target[index]\n",
        "        return data, target"
      ],
      "id": "Mc9xWSFLxMy5"
    },
    {
      "cell_type": "code",
      "execution_count": 21,
      "id": "6655fbbd",
      "metadata": {
        "id": "6655fbbd"
      },
      "outputs": [],
      "source": [
        "class SimpleModel(nn.Module):\n",
        "    def __init__(self):\n",
        "        super(SimpleModel, self).__init__()\n",
        "\n",
        "        self.linear = nn.Sequential(\n",
        "            nn.Linear(3, 32),  # input size = 3 (3 time steps), output size = 32\n",
        "            nn.ReLU(),\n",
        "            nn.Linear(32, 1)   # input size = 32, output size = 1 (predicted value)\n",
        "        )\n",
        "\n",
        "    def forward(self, x):\n",
        "        x = x.view(-1, 3)\n",
        "        x = self.linear(x)\n",
        "        return x"
      ]
    },
    {
      "cell_type": "markdown",
      "id": "b3bba4f6",
      "metadata": {
        "id": "b3bba4f6"
      },
      "source": [
        "### Function Definitions"
      ]
    },
    {
      "cell_type": "markdown",
      "id": "3460f0c0",
      "metadata": {
        "id": "3460f0c0"
      },
      "source": [
        "##### A function to split dataset into several data loaders"
      ]
    },
    {
      "cell_type": "code",
      "execution_count": 22,
      "id": "a92d7b1d",
      "metadata": {
        "id": "a92d7b1d"
      },
      "outputs": [],
      "source": [
        "def splitDataset(dataset):\n",
        "    test_size = int(len(dataset)/6)\n",
        "    val_size = int(len(dataset)/6)\n",
        "    train_size = len(dataset) - test_size - val_size\n",
        "\n",
        "    trainset, valset, testset = torch.utils.data.random_split(\n",
        "        dataset, [train_size, val_size, test_size])\n",
        "\n",
        "    trainloader = DataLoader(trainset, batch_size=16, shuffle=True)\n",
        "    validloader = DataLoader(valset, batch_size=16, shuffle=True)\n",
        "    testloader = DataLoader(testset, batch_size=16, shuffle=True)\n",
        "\n",
        "    return trainloader, validloader, testloader"
      ]
    },
    {
      "cell_type": "markdown",
      "id": "610be662",
      "metadata": {
        "id": "610be662"
      },
      "source": [
        "##### A function to train model"
      ]
    },
    {
      "cell_type": "code",
      "execution_count": 23,
      "id": "828d4386",
      "metadata": {
        "id": "828d4386"
      },
      "outputs": [],
      "source": [
        "def train_model(model, patience, num_epochs, train_loader, valid_loader):\n",
        "    train_losses = []\n",
        "    valid_losses = []\n",
        "    mean_train_losses = []\n",
        "    mean_valid_losses = []\n",
        "    p = 0\n",
        "    min_valid_loss = float(\"inf\")\n",
        "\n",
        "    criterion = nn.MSELoss()\n",
        "    optimizer = torch.optim.Adam(model.parameters(), lr=0.001)\n",
        "\n",
        "    for epoch in range(1, num_epochs + 1):\n",
        "\n",
        "        model.train()\n",
        "        for train_data, train_target in train_loader:\n",
        "            if torch.cuda.is_available():\n",
        "                device = torch.device(\"cuda\")\n",
        "                train_data = train_data.to(device, dtype=torch.float)\n",
        "                train_target = train_target.to(device, dtype=torch.float)\n",
        "            optimizer.zero_grad()\n",
        "            output = model(train_data)\n",
        "            loss = criterion(output, train_target)\n",
        "            loss.backward()\n",
        "            optimizer.step()\n",
        "            train_losses.append(loss.item())\n",
        "\n",
        "        model.eval()\n",
        "\n",
        "        for valid_data, valid_target in valid_loader:\n",
        "            if torch.cuda.is_available():\n",
        "                device = torch.device(\"cuda\")\n",
        "                valid_data = valid_data.to(device, dtype=torch.float)\n",
        "                valid_target = valid_target.to(device, dtype=torch.float)\n",
        "            output = model(valid_data)\n",
        "            loss = criterion(output, valid_target)\n",
        "            valid_losses.append(loss.item())\n",
        "\n",
        "        train_loss = np.mean(train_losses)\n",
        "        valid_loss = np.mean(valid_losses)\n",
        "        mean_train_losses.append(train_loss)\n",
        "        mean_valid_losses.append(valid_loss)\n",
        "\n",
        "        if min_valid_loss > valid_loss:\n",
        "            min_valid_loss = valid_loss\n",
        "            print(f\"min_valid_loss: {min_valid_loss}\")\n",
        "\n",
        "        epoch_len = len(str(num_epochs))\n",
        "        print_msg = (f\"[{epoch:>{epoch_len}}/{num_epochs:>{epoch_len}}] \" +\n",
        "                     f\"train_loss: {train_loss:.5f} \" +\n",
        "                     f\"valid_loss: {valid_loss:.5f} \")\n",
        "        print(print_msg)\n",
        "\n",
        "        train_losses = []\n",
        "        valid_losses = []\n",
        "\n",
        "        if min_valid_loss < valid_loss and epoch > 1:\n",
        "            p = p + 1\n",
        "            print(f'patience: {p}')\n",
        "        else:\n",
        "            p = 0\n",
        "            torch.save(model.state_dict(), \"bestmodel.pt\")\n",
        "            print(\"Saving Model...\")\n",
        "\n",
        "        if patience == p:\n",
        "            print(\"Early stopping\")\n",
        "            break\n",
        "\n",
        "    model.load_state_dict(torch.load(\"bestmodel.pt\"))\n",
        "\n",
        "    return model"
      ]
    },
    {
      "cell_type": "markdown",
      "id": "83317dae",
      "metadata": {
        "id": "83317dae"
      },
      "source": [
        "### Training"
      ]
    },
    {
      "cell_type": "markdown",
      "metadata": {
        "id": "MPPDZF4jxMy-"
      },
      "source": [
        "##### Load datasets and get dataloaders"
      ],
      "id": "MPPDZF4jxMy-"
    },
    {
      "cell_type": "code",
      "execution_count": 24,
      "metadata": {
        "id": "GJROv1PCxMy_"
      },
      "outputs": [],
      "source": [
        "tempDataset = DHTDataset(\"temperature\")\n",
        "humiDataset = DHTDataset(\"humidity\")\n",
        "\n",
        "temp_trainloader, temp_validloader, temp_testloader = splitDataset(tempDataset)\n",
        "humi_trainloader, humi_validloader, humi_testloader = splitDataset(humiDataset)"
      ],
      "id": "GJROv1PCxMy_"
    },
    {
      "cell_type": "markdown",
      "metadata": {
        "id": "MQrPaGoJxMy_"
      },
      "source": [
        "##### Make models"
      ],
      "id": "MQrPaGoJxMy_"
    },
    {
      "cell_type": "code",
      "execution_count": 25,
      "metadata": {
        "id": "w57L7uKHxMy_"
      },
      "outputs": [],
      "source": [
        "tempModel = SimpleModel()\n",
        "humiModel = SimpleModel()\n",
        "\n",
        "if torch.cuda.is_available():\n",
        "    tempModel = tempModel.cuda()\n",
        "    humiModel = humiModel.cuda()"
      ],
      "id": "w57L7uKHxMy_"
    },
    {
      "cell_type": "markdown",
      "metadata": {
        "id": "qFEu4M4FxMzA"
      },
      "source": [
        "##### Do training with earlystopping"
      ],
      "id": "qFEu4M4FxMzA"
    },
    {
      "cell_type": "code",
      "execution_count": 26,
      "metadata": {
        "colab": {
          "base_uri": "https://localhost:8080/"
        },
        "id": "YoEnKcmsxMzA",
        "outputId": "3b4933fd-7a34-47ec-e176-395c0c2c5475"
      },
      "outputs": [
        {
          "output_type": "stream",
          "name": "stdout",
          "text": [
            "min_valid_loss: 725.866455078125\n",
            "[   1/1000] train_loss: 909.06105 valid_loss: 725.86646 \n",
            "Saving Model...\n",
            "min_valid_loss: 456.40069580078125\n",
            "[   2/1000] train_loss: 592.00538 valid_loss: 456.40070 \n",
            "Saving Model...\n",
            "min_valid_loss: 262.5117492675781\n",
            "[   3/1000] train_loss: 359.59650 valid_loss: 262.51175 \n",
            "Saving Model...\n",
            "min_valid_loss: 130.82372665405273\n",
            "[   4/1000] train_loss: 195.70956 valid_loss: 130.82373 \n",
            "Saving Model...\n",
            "min_valid_loss: 52.98512077331543\n",
            "[   5/1000] train_loss: 90.19750 valid_loss: 52.98512 \n",
            "Saving Model...\n",
            "min_valid_loss: 15.888832092285156\n",
            "[   6/1000] train_loss: 32.77200 valid_loss: 15.88883 \n",
            "Saving Model...\n",
            "min_valid_loss: 3.0872669219970703\n",
            "[   7/1000] train_loss: 8.51137 valid_loss: 3.08727 \n",
            "Saving Model...\n",
            "min_valid_loss: 0.29253584146499634\n",
            "[   8/1000] train_loss: 1.34732 valid_loss: 0.29254 \n",
            "Saving Model...\n",
            "min_valid_loss: 0.0066064961720258\n",
            "[   9/1000] train_loss: 0.08715 valid_loss: 0.00661 \n",
            "Saving Model...\n",
            "[  10/1000] train_loss: 0.00792 valid_loss: 0.01045 \n",
            "patience: 1\n",
            "[  11/1000] train_loss: 0.01052 valid_loss: 0.00762 \n",
            "patience: 2\n",
            "min_valid_loss: 0.005080181290395558\n",
            "[  12/1000] train_loss: 0.00649 valid_loss: 0.00508 \n",
            "Saving Model...\n",
            "min_valid_loss: 0.004974737879820168\n",
            "[  13/1000] train_loss: 0.00477 valid_loss: 0.00497 \n",
            "Saving Model...\n",
            "[  14/1000] train_loss: 0.00469 valid_loss: 0.00505 \n",
            "patience: 1\n",
            "[  15/1000] train_loss: 0.00468 valid_loss: 0.00504 \n",
            "patience: 2\n",
            "[  16/1000] train_loss: 0.00470 valid_loss: 0.00504 \n",
            "patience: 3\n",
            "[  17/1000] train_loss: 0.00469 valid_loss: 0.00501 \n",
            "patience: 4\n",
            "[  18/1000] train_loss: 0.00465 valid_loss: 0.00500 \n",
            "patience: 5\n",
            "min_valid_loss: 0.004974251030944288\n",
            "[  19/1000] train_loss: 0.00472 valid_loss: 0.00497 \n",
            "Saving Model...\n",
            "[  20/1000] train_loss: 0.00474 valid_loss: 0.00501 \n",
            "patience: 1\n",
            "[  21/1000] train_loss: 0.00471 valid_loss: 0.00508 \n",
            "patience: 2\n",
            "[  22/1000] train_loss: 0.00468 valid_loss: 0.00498 \n",
            "patience: 3\n",
            "[  23/1000] train_loss: 0.00474 valid_loss: 0.00499 \n",
            "patience: 4\n",
            "[  24/1000] train_loss: 0.00471 valid_loss: 0.00508 \n",
            "patience: 5\n",
            "[  25/1000] train_loss: 0.00469 valid_loss: 0.00498 \n",
            "patience: 6\n",
            "min_valid_loss: 0.004968786874087527\n",
            "[  26/1000] train_loss: 0.00473 valid_loss: 0.00497 \n",
            "Saving Model...\n",
            "[  27/1000] train_loss: 0.00466 valid_loss: 0.00500 \n",
            "patience: 1\n",
            "[  28/1000] train_loss: 0.00472 valid_loss: 0.00502 \n",
            "patience: 2\n",
            "[  29/1000] train_loss: 0.00467 valid_loss: 0.00502 \n",
            "patience: 3\n",
            "[  30/1000] train_loss: 0.00469 valid_loss: 0.00500 \n",
            "patience: 4\n",
            "min_valid_loss: 0.004938390280585736\n",
            "[  31/1000] train_loss: 0.00473 valid_loss: 0.00494 \n",
            "Saving Model...\n",
            "[  32/1000] train_loss: 0.00474 valid_loss: 0.00500 \n",
            "patience: 1\n",
            "[  33/1000] train_loss: 0.00464 valid_loss: 0.00501 \n",
            "patience: 2\n",
            "[  34/1000] train_loss: 0.00475 valid_loss: 0.00501 \n",
            "patience: 3\n",
            "[  35/1000] train_loss: 0.00470 valid_loss: 0.00497 \n",
            "patience: 4\n",
            "[  36/1000] train_loss: 0.00468 valid_loss: 0.00500 \n",
            "patience: 5\n",
            "[  37/1000] train_loss: 0.00470 valid_loss: 0.00503 \n",
            "patience: 6\n",
            "[  38/1000] train_loss: 0.00470 valid_loss: 0.00498 \n",
            "patience: 7\n",
            "[  39/1000] train_loss: 0.00475 valid_loss: 0.00497 \n",
            "patience: 8\n",
            "[  40/1000] train_loss: 0.00468 valid_loss: 0.00497 \n",
            "patience: 9\n",
            "[  41/1000] train_loss: 0.00465 valid_loss: 0.00503 \n",
            "patience: 10\n",
            "[  42/1000] train_loss: 0.00471 valid_loss: 0.00501 \n",
            "patience: 11\n",
            "[  43/1000] train_loss: 0.00470 valid_loss: 0.00500 \n",
            "patience: 12\n",
            "[  44/1000] train_loss: 0.00467 valid_loss: 0.00503 \n",
            "patience: 13\n",
            "[  45/1000] train_loss: 0.00471 valid_loss: 0.00503 \n",
            "patience: 14\n",
            "[  46/1000] train_loss: 0.00467 valid_loss: 0.00500 \n",
            "patience: 15\n",
            "[  47/1000] train_loss: 0.00471 valid_loss: 0.00500 \n",
            "patience: 16\n",
            "[  48/1000] train_loss: 0.00468 valid_loss: 0.00503 \n",
            "patience: 17\n",
            "[  49/1000] train_loss: 0.00472 valid_loss: 0.00510 \n",
            "patience: 18\n",
            "[  50/1000] train_loss: 0.00474 valid_loss: 0.00500 \n",
            "patience: 19\n",
            "[  51/1000] train_loss: 0.00474 valid_loss: 0.00499 \n",
            "patience: 20\n",
            "[  52/1000] train_loss: 0.00470 valid_loss: 0.00506 \n",
            "patience: 21\n",
            "[  53/1000] train_loss: 0.00474 valid_loss: 0.00496 \n",
            "patience: 22\n",
            "[  54/1000] train_loss: 0.00467 valid_loss: 0.00499 \n",
            "patience: 23\n",
            "[  55/1000] train_loss: 0.00472 valid_loss: 0.00496 \n",
            "patience: 24\n",
            "[  56/1000] train_loss: 0.00475 valid_loss: 0.00505 \n",
            "patience: 25\n",
            "[  57/1000] train_loss: 0.00468 valid_loss: 0.00497 \n",
            "patience: 26\n",
            "[  58/1000] train_loss: 0.00473 valid_loss: 0.00497 \n",
            "patience: 27\n",
            "[  59/1000] train_loss: 0.00469 valid_loss: 0.00501 \n",
            "patience: 28\n",
            "[  60/1000] train_loss: 0.00474 valid_loss: 0.00496 \n",
            "patience: 29\n",
            "[  61/1000] train_loss: 0.00469 valid_loss: 0.00495 \n",
            "patience: 30\n",
            "Early stopping\n"
          ]
        }
      ],
      "source": [
        "temp_predict_model = train_model(tempModel, patience=30, num_epochs=1000,\n",
        "                                 train_loader=temp_trainloader,\n",
        "                                 valid_loader=temp_validloader)\n",
        "torch.save(temp_predict_model.state_dict(), \"temp_predict.pt\")"
      ],
      "id": "YoEnKcmsxMzA"
    },
    {
      "cell_type": "code",
      "execution_count": 27,
      "metadata": {
        "colab": {
          "base_uri": "https://localhost:8080/"
        },
        "id": "7p8hbcwbxMzA",
        "outputId": "4e887b07-cdbd-487b-8ddb-c79c91a30101"
      },
      "outputs": [
        {
          "output_type": "stream",
          "name": "stdout",
          "text": [
            "min_valid_loss: 457.66712951660156\n",
            "[   1/1000] train_loss: 524.55370 valid_loss: 457.66713 \n",
            "Saving Model...\n",
            "min_valid_loss: 349.69161224365234\n",
            "[   2/1000] train_loss: 407.66732 valid_loss: 349.69161 \n",
            "Saving Model...\n",
            "min_valid_loss: 256.2993965148926\n",
            "[   3/1000] train_loss: 306.40526 valid_loss: 256.29940 \n",
            "Saving Model...\n",
            "min_valid_loss: 178.46134185791016\n",
            "[   4/1000] train_loss: 220.34139 valid_loss: 178.46134 \n",
            "Saving Model...\n",
            "min_valid_loss: 112.88199424743652\n",
            "[   5/1000] train_loss: 147.79663 valid_loss: 112.88199 \n",
            "Saving Model...\n",
            "min_valid_loss: 62.34193992614746\n",
            "[   6/1000] train_loss: 88.92966 valid_loss: 62.34194 \n",
            "Saving Model...\n",
            "min_valid_loss: 28.923904418945312\n",
            "[   7/1000] train_loss: 46.09435 valid_loss: 28.92390 \n",
            "Saving Model...\n",
            "min_valid_loss: 10.710834503173828\n",
            "[   8/1000] train_loss: 19.72993 valid_loss: 10.71083 \n",
            "Saving Model...\n",
            "min_valid_loss: 3.141530930995941\n",
            "[   9/1000] train_loss: 6.71511 valid_loss: 3.14153 \n",
            "Saving Model...\n",
            "min_valid_loss: 0.9409873634576797\n",
            "[  10/1000] train_loss: 1.88191 valid_loss: 0.94099 \n",
            "Saving Model...\n",
            "min_valid_loss: 0.5737764239311218\n",
            "[  11/1000] train_loss: 0.60762 valid_loss: 0.57378 \n",
            "Saving Model...\n",
            "min_valid_loss: 0.55881667137146\n",
            "[  12/1000] train_loss: 0.39176 valid_loss: 0.55882 \n",
            "Saving Model...\n",
            "[  13/1000] train_loss: 0.38735 valid_loss: 0.57001 \n",
            "patience: 1\n",
            "[  14/1000] train_loss: 0.38125 valid_loss: 0.56337 \n",
            "patience: 2\n",
            "[  15/1000] train_loss: 0.38365 valid_loss: 0.56795 \n",
            "patience: 3\n",
            "[  16/1000] train_loss: 0.37791 valid_loss: 0.56393 \n",
            "patience: 4\n",
            "[  17/1000] train_loss: 0.38188 valid_loss: 0.56824 \n",
            "patience: 5\n",
            "[  18/1000] train_loss: 0.38197 valid_loss: 0.57658 \n",
            "patience: 6\n",
            "[  19/1000] train_loss: 0.38084 valid_loss: 0.55977 \n",
            "patience: 7\n",
            "[  20/1000] train_loss: 0.38852 valid_loss: 0.56919 \n",
            "patience: 8\n",
            "[  21/1000] train_loss: 0.38070 valid_loss: 0.56214 \n",
            "patience: 9\n",
            "[  22/1000] train_loss: 0.37793 valid_loss: 0.57363 \n",
            "patience: 10\n",
            "[  23/1000] train_loss: 0.38653 valid_loss: 0.56878 \n",
            "patience: 11\n",
            "[  24/1000] train_loss: 0.37805 valid_loss: 0.56390 \n",
            "patience: 12\n",
            "[  25/1000] train_loss: 0.38021 valid_loss: 0.56089 \n",
            "patience: 13\n",
            "[  26/1000] train_loss: 0.38743 valid_loss: 0.56166 \n",
            "patience: 14\n",
            "[  27/1000] train_loss: 0.37932 valid_loss: 0.57025 \n",
            "patience: 15\n",
            "[  28/1000] train_loss: 0.37712 valid_loss: 0.56258 \n",
            "patience: 16\n",
            "[  29/1000] train_loss: 0.38029 valid_loss: 0.56427 \n",
            "patience: 17\n",
            "[  30/1000] train_loss: 0.37911 valid_loss: 0.57265 \n",
            "patience: 18\n",
            "[  31/1000] train_loss: 0.37721 valid_loss: 0.56253 \n",
            "patience: 19\n",
            "[  32/1000] train_loss: 0.37729 valid_loss: 0.56388 \n",
            "patience: 20\n",
            "[  33/1000] train_loss: 0.38440 valid_loss: 0.56765 \n",
            "patience: 21\n",
            "min_valid_loss: 0.5582045763731003\n",
            "[  34/1000] train_loss: 0.38565 valid_loss: 0.55820 \n",
            "Saving Model...\n",
            "[  35/1000] train_loss: 0.37821 valid_loss: 0.56330 \n",
            "patience: 1\n",
            "[  36/1000] train_loss: 0.37832 valid_loss: 0.56885 \n",
            "patience: 2\n",
            "[  37/1000] train_loss: 0.37984 valid_loss: 0.56316 \n",
            "patience: 3\n",
            "[  38/1000] train_loss: 0.38761 valid_loss: 0.56564 \n",
            "patience: 4\n",
            "[  39/1000] train_loss: 0.38196 valid_loss: 0.56576 \n",
            "patience: 5\n",
            "[  40/1000] train_loss: 0.37659 valid_loss: 0.56762 \n",
            "patience: 6\n",
            "[  41/1000] train_loss: 0.37933 valid_loss: 0.56287 \n",
            "patience: 7\n",
            "[  42/1000] train_loss: 0.38931 valid_loss: 0.56288 \n",
            "patience: 8\n",
            "[  43/1000] train_loss: 0.38009 valid_loss: 0.56494 \n",
            "patience: 9\n",
            "[  44/1000] train_loss: 0.37848 valid_loss: 0.56443 \n",
            "patience: 10\n",
            "[  45/1000] train_loss: 0.38877 valid_loss: 0.56324 \n",
            "patience: 11\n",
            "[  46/1000] train_loss: 0.37913 valid_loss: 0.56702 \n",
            "patience: 12\n",
            "[  47/1000] train_loss: 0.38360 valid_loss: 0.56878 \n",
            "patience: 13\n",
            "[  48/1000] train_loss: 0.38742 valid_loss: 0.57311 \n",
            "patience: 14\n",
            "[  49/1000] train_loss: 0.38084 valid_loss: 0.56477 \n",
            "patience: 15\n",
            "[  50/1000] train_loss: 0.38427 valid_loss: 0.56274 \n",
            "patience: 16\n",
            "[  51/1000] train_loss: 0.39109 valid_loss: 0.55856 \n",
            "patience: 17\n",
            "[  52/1000] train_loss: 0.38696 valid_loss: 0.56477 \n",
            "patience: 18\n",
            "[  53/1000] train_loss: 0.37817 valid_loss: 0.57342 \n",
            "patience: 19\n",
            "[  54/1000] train_loss: 0.37952 valid_loss: 0.56677 \n",
            "patience: 20\n",
            "[  55/1000] train_loss: 0.37896 valid_loss: 0.56157 \n",
            "patience: 21\n",
            "[  56/1000] train_loss: 0.37940 valid_loss: 0.57631 \n",
            "patience: 22\n",
            "[  57/1000] train_loss: 0.38567 valid_loss: 0.56855 \n",
            "patience: 23\n",
            "[  58/1000] train_loss: 0.37969 valid_loss: 0.56589 \n",
            "patience: 24\n",
            "[  59/1000] train_loss: 0.38947 valid_loss: 0.57560 \n",
            "patience: 25\n",
            "[  60/1000] train_loss: 0.38681 valid_loss: 0.56301 \n",
            "patience: 26\n",
            "[  61/1000] train_loss: 0.37854 valid_loss: 0.56404 \n",
            "patience: 27\n",
            "[  62/1000] train_loss: 0.37773 valid_loss: 0.56693 \n",
            "patience: 28\n",
            "[  63/1000] train_loss: 0.38128 valid_loss: 0.56667 \n",
            "patience: 29\n",
            "[  64/1000] train_loss: 0.38878 valid_loss: 0.56883 \n",
            "patience: 30\n",
            "Early stopping\n"
          ]
        }
      ],
      "source": [
        "humi_predict_model = train_model(humiModel, patience=30, num_epochs=1000,\n",
        "                                 train_loader=humi_trainloader,\n",
        "                                 valid_loader=humi_validloader)\n",
        "torch.save(humi_predict_model.state_dict(), \"humi_predict.pt\")"
      ],
      "id": "7p8hbcwbxMzA"
    },
    {
      "cell_type": "markdown",
      "metadata": {
        "id": "kCEa-jCuxMzB"
      },
      "source": [
        "### ONNX Coversion"
      ],
      "id": "kCEa-jCuxMzB"
    },
    {
      "cell_type": "code",
      "execution_count": 28,
      "id": "c64233ee",
      "metadata": {
        "id": "c64233ee"
      },
      "outputs": [],
      "source": [
        "def convert_to_onnx(saved_file_name):\n",
        "    saved_model = SimpleModel()\n",
        "    saved_model.load_state_dict(torch.load(saved_file_name))\n",
        "    saved_model.eval()\n",
        "    torch.onnx.export(\n",
        "        saved_model,\n",
        "        torch.randn((1, 3, 1)),\n",
        "        saved_file_name[:-3] + '.onnx',\n",
        "        opset_version=11,\n",
        "        do_constant_folding=True,\n",
        "        input_names=[\"input\"],\n",
        "        output_names=[\"output\"]\n",
        "    )"
      ]
    },
    {
      "cell_type": "code",
      "execution_count": 29,
      "metadata": {
        "id": "Bfy09GeAxMzB"
      },
      "outputs": [],
      "source": [
        "convert_to_onnx(\"temp_predict.pt\")\n",
        "convert_to_onnx(\"humi_predict.pt\")"
      ],
      "id": "Bfy09GeAxMzB"
    },
    {
      "cell_type": "code",
      "execution_count": 30,
      "id": "980f3ab3",
      "metadata": {
        "id": "980f3ab3"
      },
      "outputs": [],
      "source": [
        "# End of Document."
      ]
    },
    {
      "cell_type": "code",
      "source": [
        "humi_predict_model"
      ],
      "metadata": {
        "colab": {
          "base_uri": "https://localhost:8080/"
        },
        "id": "h270-uuJz8fg",
        "outputId": "e2fe82f4-b470-4c2e-a7bd-638f76fabd52"
      },
      "id": "h270-uuJz8fg",
      "execution_count": 31,
      "outputs": [
        {
          "output_type": "execute_result",
          "data": {
            "text/plain": [
              "SimpleModel(\n",
              "  (linear): Sequential(\n",
              "    (0): Linear(in_features=3, out_features=32, bias=True)\n",
              "    (1): ReLU()\n",
              "    (2): Linear(in_features=32, out_features=1, bias=True)\n",
              "  )\n",
              ")"
            ]
          },
          "metadata": {},
          "execution_count": 31
        }
      ]
    },
    {
      "cell_type": "code",
      "source": [],
      "metadata": {
        "id": "qBXCXUSL0lgI"
      },
      "id": "qBXCXUSL0lgI",
      "execution_count": null,
      "outputs": []
    }
  ],
  "metadata": {
    "kernelspec": {
      "display_name": "Python 3",
      "language": "python",
      "name": "python3"
    },
    "language_info": {
      "codemirror_mode": {
        "name": "ipython",
        "version": 3
      },
      "file_extension": ".py",
      "mimetype": "text/x-python",
      "name": "python",
      "nbconvert_exporter": "python",
      "pygments_lexer": "ipython3",
      "version": "3.9.7"
    },
    "colab": {
      "provenance": []
    }
  },
  "nbformat": 4,
  "nbformat_minor": 5
}